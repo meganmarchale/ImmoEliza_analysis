{
 "cells": [
  {
   "cell_type": "code",
   "execution_count": 2,
   "id": "2241b58b",
   "metadata": {},
   "outputs": [],
   "source": [
    "import pandas as pd\n",
    "import seaborn as sns\n",
    "import matplotlib.pyplot as plt\n",
    "\n",
    "origin_file = \"../data/immoweb-dataset.csv\"\n",
    "cleaned_file = \"../data/cleaned_data.csv\"\n",
    "cleaned_file_modified = \"../data/cleaned_data_modified.csv\"\n",
    "df = pd.read_csv(origin_file)\n",
    "df_cleaned = pd.read_csv(cleaned_file_modified)"
   ]
  },
  {
   "cell_type": "code",
   "execution_count": 29,
   "id": "fba9d0d3",
   "metadata": {},
   "outputs": [],
   "source": [
    "def filter_outliers(df, column='price_per_m2'):\n",
    "    Q1 = df[column].quantile(0.25)\n",
    "    Q3 = df[column].quantile(0.75)\n",
    "    IQR = Q3 - Q1\n",
    "    filtered_df = df[(df[column] >= Q1 - 1.5 * IQR) & (df[column] <= Q3 + 1.5 * IQR)]\n",
    "    return filtered_df\n",
    "\n",
    "houses_df = df_cleaned[df_cleaned['type'] == 'HOUSE']\n",
    "apt_df = df_cleaned[df_cleaned['type'] == 'APARTMENT']\n",
    "\n",
    "houses_filtered = filter_outliers(houses_df)\n",
    "apt_filtered = filter_outliers(apt_df)"
   ]
  },
  {
   "cell_type": "code",
   "execution_count": 30,
   "id": "3902e2ad",
   "metadata": {},
   "outputs": [
    {
     "name": "stdout",
     "output_type": "stream",
     "text": [
      "       region                municipality  price_per_m2\n",
      "1    Brussels                   Auderghem   4398.190045\n",
      "12   Brussels                Saint-Gilles   4349.315068\n",
      "4    Brussels                   Etterbeek   4285.714286\n",
      "8    Brussels                     Ixelles   4264.823718\n",
      "17   Brussels        Woluwe-Saint-Lambert   4154.929577\n",
      "21   Flanders                    Kraainem   4272.727273\n",
      "26   Flanders             Wezembeek-Oppem   3868.421053\n",
      "19   Flanders                   Drogenbos   3357.142857\n",
      "24   Flanders          Rhode-Saint-Genèse   3277.777778\n",
      "22   Flanders                   Linkebeek   3272.576636\n",
      "136  Wallonia                       Lasne   4916.666667\n",
      "188  Wallonia                      Raeren   4666.361416\n",
      "67   Wallonia            Chaumont-Gistoux   4552.845528\n",
      "61   Wallonia                  Butgenbach   4424.778761\n",
      "174  Wallonia  Ottignies-Louvain-la-Neuve   4344.982079\n"
     ]
    }
   ],
   "source": [
    "region_median_prices_apt = apt_filtered.groupby(['region', 'municipality'])['price_per_m2'].median().reset_index()\n",
    "top_by_region_apt = region_median_prices_apt.sort_values(['region', 'price_per_m2'], ascending=[True, False])\n",
    "top5_each_region_apt = top_by_region_apt.groupby('region').head(5)\n",
    "\n",
    "print(top5_each_region_apt)"
   ]
  },
  {
   "cell_type": "code",
   "execution_count": 32,
   "id": "91b586d1",
   "metadata": {},
   "outputs": [
    {
     "name": "stdout",
     "output_type": "stream",
     "text": [
      "       region           municipality  price_per_m2\n",
      "11   Brussels   Molenbeek-Saint-Jean   2589.298370\n",
      "10   Brussels             Koekelberg   2651.996528\n",
      "7    Brussels              Ganshoren   2722.772277\n",
      "9    Brussels                  Jette   2867.460317\n",
      "2    Brussels  Berchem-Sainte-Agathe   2937.500000\n",
      "20   Flanders                Fourons   2147.727273\n",
      "23   Flanders                 Renaix   2654.655612\n",
      "25   Flanders                 Wemmel   2965.099715\n",
      "22   Flanders              Linkebeek   3272.576636\n",
      "24   Flanders     Rhode-Saint-Genèse   3277.777778\n",
      "117  Wallonia                Hensies    921.052632\n",
      "180  Wallonia          Philippeville    963.414634\n",
      "120  Wallonia              Honnelles   1000.000000\n",
      "81   Wallonia                  Dison   1068.965517\n",
      "152  Wallonia                Marchin   1085.365854\n"
     ]
    }
   ],
   "source": [
    "\n",
    "bottom_by_region_apt = region_median_prices_apt.sort_values(['region', 'price_per_m2'], ascending=[True, True])\n",
    "bottom5_each_region_apt = bottom_by_region_apt.groupby('region').head(5)\n",
    "\n",
    "print(bottom5_each_region_apt)"
   ]
  },
  {
   "cell_type": "code",
   "execution_count": 33,
   "id": "cea0418f",
   "metadata": {},
   "outputs": [
    {
     "name": "stdout",
     "output_type": "stream",
     "text": [
      "       region         municipality  price_per_m2\n",
      "16   Brussels  Watermael-Boitsfort   3425.000000\n",
      "18   Brussels  Woluwe-Saint-Pierre   3378.378378\n",
      "1    Brussels            Auderghem   3261.904762\n",
      "15   Brussels                Uccle   3256.447453\n",
      "8    Brussels              Ixelles   3232.218310\n",
      "30   Flanders      Wezembeek-Oppem   3550.708700\n",
      "24   Flanders             Kraainem   3316.955267\n",
      "28   Flanders   Rhode-Saint-Genèse   3170.634921\n",
      "29   Flanders               Wemmel   2842.857143\n",
      "25   Flanders            Linkebeek   2531.914894\n",
      "167  Wallonia                Lasne   3365.388046\n",
      "227  Wallonia               Raeren   3035.019455\n",
      "232  Wallonia            Rixensart   2981.735452\n",
      "282  Wallonia             Waterloo   2959.183673\n",
      "81   Wallonia     Chaumont-Gistoux   2935.000000\n"
     ]
    }
   ],
   "source": [
    "region_median_prices_house = houses_filtered.groupby(['region', 'municipality'])['price_per_m2'].median().reset_index()\n",
    "top_by_region_house = region_median_prices_house.sort_values(['region', 'price_per_m2'], ascending=[True, False])\n",
    "top5_each_region_house = top_by_region_house.groupby('region').head(5)\n",
    "\n",
    "print(top5_each_region_house)"
   ]
  },
  {
   "cell_type": "code",
   "execution_count": 34,
   "id": "915ed2a5",
   "metadata": {},
   "outputs": [
    {
     "name": "stdout",
     "output_type": "stream",
     "text": [
      "       region          municipality  price_per_m2\n",
      "11   Brussels  Molenbeek-Saint-Jean   2256.630398\n",
      "0    Brussels            Anderlecht   2381.301325\n",
      "14   Brussels            Schaerbeek   2395.480980\n",
      "9    Brussels                 Jette   2488.709677\n",
      "10   Brussels            Koekelberg   2493.750000\n",
      "26   Flanders              Messines   1470.725575\n",
      "27   Flanders                Renaix   1528.205128\n",
      "21   Flanders     Espierres-Helchin   1573.362299\n",
      "22   Flanders               Fourons   1585.294118\n",
      "19   Flanders               Biévène   1673.228346\n",
      "57   Wallonia              Bertogne    859.139785\n",
      "58   Wallonia               Bertrix    960.227273\n",
      "225  Wallonia             Quiévrain    963.302752\n",
      "193  Wallonia             Momignies   1000.000000\n",
      "105  Wallonia           Erquelinnes   1010.273973\n"
     ]
    }
   ],
   "source": [
    "bottom_by_region_house = region_median_prices_house.sort_values(['region', 'price_per_m2'], ascending=[True, True])\n",
    "bottom5_each_region_house = bottom_by_region_house.groupby('region').head(5)\n",
    "\n",
    "print(bottom5_each_region_house)"
   ]
  },
  {
   "cell_type": "code",
   "execution_count": 38,
   "id": "bbccdd33",
   "metadata": {},
   "outputs": [
    {
     "name": "stdout",
     "output_type": "stream",
     "text": [
      "Top 5 Apartments by Mean Price:\n",
      "       region          municipality           mean\n",
      "18   Brussels   Woluwe-Saint-Pierre  424288.435374\n",
      "15   Brussels                 Uccle  394730.048969\n",
      "17   Brussels  Woluwe-Saint-Lambert  387005.576744\n",
      "16   Brussels   Watermael-Boitsfort  383153.846154\n",
      "12   Brussels          Saint-Gilles  380256.926625\n",
      "26   Flanders       Wezembeek-Oppem  445045.454545\n",
      "21   Flanders              Kraainem  436133.333333\n",
      "24   Flanders    Rhode-Saint-Genèse  352863.636364\n",
      "19   Flanders             Drogenbos  349400.000000\n",
      "23   Flanders                Renaix  308038.779070\n",
      "172  Wallonia                 Oreye  495000.000000\n",
      "67   Wallonia      Chaumont-Gistoux  486272.727273\n",
      "188  Wallonia                Raeren  453000.000000\n",
      "214  Wallonia    Thimister-Clermont  404333.333333\n",
      "168  Wallonia                Neupré  401509.444444\n"
     ]
    }
   ],
   "source": [
    "def filter_outliers(df, column='price'):\n",
    "    Q1 = df[column].quantile(0.25)\n",
    "    Q3 = df[column].quantile(0.75)\n",
    "    IQR = Q3 - Q1\n",
    "    filtered_df = df[(df[column] >= Q1 - 1.5 * IQR) & (df[column] <= Q3 + 1.5 * IQR)]\n",
    "    return filtered_df\n",
    "\n",
    "houses_df = df_cleaned[df_cleaned['type'] == 'HOUSE']\n",
    "apt_df = df_cleaned[df_cleaned['type'] == 'APARTMENT']\n",
    "\n",
    "houses_filtered = filter_outliers(houses_df)\n",
    "apt_filtered = filter_outliers(apt_df)\n",
    "\n",
    "region_median_prices_apt = apt_filtered.groupby(['region', 'municipality'])['price'].agg([\"mean\", \"median\"]).reset_index()\n",
    "top_by_region_apt_mean = region_median_prices_apt.sort_values(['region', 'mean'], ascending=[True, False])\n",
    "top_by_region_apt_median = region_median_prices_apt.sort_values(['region', 'median'], ascending=[True, False])\n",
    "\n",
    "\n",
    "top5_each_region_apt_mean = top_by_region_apt_mean.groupby('region').head(5)\n",
    "top5_each_region_apt_median = top_by_region_apt_median.groupby('region').head(5)\n",
    "print(\"Top 5 Apartments by Mean Price:\")\n",
    "print(top5_each_region_apt_mean[[\"region\",\"municipality\",\"mean\"]])"
   ]
  },
  {
   "cell_type": "code",
   "execution_count": 44,
   "id": "5ba087e6",
   "metadata": {},
   "outputs": [
    {
     "name": "stdout",
     "output_type": "stream",
     "text": [
      "Top 5 Apartments by Median Price:\n",
      "       region         municipality    median\n",
      "18   Brussels  Woluwe-Saint-Pierre  398000.0\n",
      "8    Brussels              Ixelles  375000.0\n",
      "16   Brussels  Watermael-Boitsfort  372500.0\n",
      "12   Brussels         Saint-Gilles  370000.0\n",
      "15   Brussels                Uccle  370000.0\n",
      "26   Flanders      Wezembeek-Oppem  487500.0\n",
      "21   Flanders             Kraainem  425000.0\n",
      "24   Flanders   Rhode-Saint-Genèse  327500.0\n",
      "19   Flanders            Drogenbos  320000.0\n",
      "25   Flanders               Wemmel  275000.0\n",
      "172  Wallonia                Oreye  495000.0\n",
      "222  Wallonia             Vielsalm  475000.0\n",
      "67   Wallonia     Chaumont-Gistoux  465000.0\n",
      "188  Wallonia               Raeren  462000.0\n",
      "168  Wallonia               Neupré  432500.0\n"
     ]
    }
   ],
   "source": [
    "print(\"Top 5 Apartments by Median Price:\")\n",
    "print(top5_each_region_apt_median[[\"region\",\"municipality\",\"median\"]])"
   ]
  },
  {
   "cell_type": "code",
   "execution_count": 36,
   "id": "010d7e61",
   "metadata": {},
   "outputs": [
    {
     "name": "stdout",
     "output_type": "stream",
     "text": [
      "Bottom 5 by Mean Price:\n",
      "       region          municipality           mean\n",
      "7    Brussels             Ganshoren  242972.592593\n",
      "9    Brussels                 Jette  252698.295455\n",
      "11   Brussels  Molenbeek-Saint-Jean  254121.014124\n",
      "0    Brussels            Anderlecht  254921.269488\n",
      "10   Brussels            Koekelberg  274867.857143\n",
      "20   Flanders               Fourons  174000.000000\n",
      "25   Flanders                Wemmel  275000.000000\n",
      "22   Flanders             Linkebeek  279166.666667\n",
      "23   Flanders                Renaix  308038.779070\n",
      "19   Flanders             Drogenbos  349400.000000\n",
      "227  Wallonia     Vresse-sur-Semois   51000.000000\n",
      "117  Wallonia               Hensies   70000.000000\n",
      "180  Wallonia         Philippeville   79000.000000\n",
      "152  Wallonia               Marchin   89000.000000\n",
      "203  Wallonia           Sivry-Rance   95000.000000\n"
     ]
    }
   ],
   "source": [
    "bottom_by_region_apt_mean = region_median_prices_apt.sort_values(['region', 'mean'], ascending=[True, True])\n",
    "bottom_by_region_apt_median = region_median_prices_apt.sort_values(['region', 'median'], ascending=[True, True])\n",
    "\n",
    "\n",
    "bottom5_each_region_apt_mean = bottom_by_region_apt_mean.groupby('region').head(5)\n",
    "bottom5_each_region_apt_median = bottom_by_region_apt_median.groupby('region').head(5)\n",
    "print(\"Bottom 5 by Mean Price:\")\n",
    "print(bottom5_each_region_apt_mean[[\"region\",\"municipality\",\"mean\"]])"
   ]
  },
  {
   "cell_type": "code",
   "execution_count": 42,
   "id": "e2900947",
   "metadata": {},
   "outputs": [
    {
     "name": "stdout",
     "output_type": "stream",
     "text": [
      "Bottom 5 by Median Price:\n",
      "       region          municipality    median\n",
      "7    Brussels             Ganshoren  235000.0\n",
      "11   Brussels  Molenbeek-Saint-Jean  237000.0\n",
      "0    Brussels            Anderlecht  240000.0\n",
      "9    Brussels                 Jette  240000.0\n",
      "10   Brussels            Koekelberg  249000.0\n",
      "20   Flanders               Fourons  174000.0\n",
      "23   Flanders                Renaix  256000.0\n",
      "22   Flanders             Linkebeek  260000.0\n",
      "25   Flanders                Wemmel  275000.0\n",
      "19   Flanders             Drogenbos  320000.0\n",
      "227  Wallonia     Vresse-sur-Semois   51000.0\n",
      "117  Wallonia               Hensies   70000.0\n",
      "180  Wallonia         Philippeville   79000.0\n",
      "184  Wallonia              Péruwelz   88500.0\n",
      "152  Wallonia               Marchin   89000.0\n"
     ]
    }
   ],
   "source": [
    "\n",
    "print(\"Bottom 5 by Median Price:\")\n",
    "print(bottom5_each_region_apt_median[[\"region\",\"municipality\",\"median\"]])"
   ]
  },
  {
   "cell_type": "code",
   "execution_count": 40,
   "id": "1297b261",
   "metadata": {},
   "outputs": [
    {
     "name": "stdout",
     "output_type": "stream",
     "text": [
      "Top 5 Houses by Mean Price:\n",
      "       region          municipality           mean\n",
      "18   Brussels   Woluwe-Saint-Pierre  714043.103448\n",
      "17   Brussels  Woluwe-Saint-Lambert  708510.638298\n",
      "16   Brussels   Watermael-Boitsfort  692571.428571\n",
      "12   Brussels          Saint-Gilles  692516.666667\n",
      "8    Brussels               Ixelles  680282.352941\n",
      "23   Flanders             Herstappe  700000.000000\n",
      "30   Flanders       Wezembeek-Oppem  647000.000000\n",
      "28   Flanders    Rhode-Saint-Genèse  613269.230769\n",
      "24   Flanders              Kraainem  605354.838710\n",
      "25   Flanders             Linkebeek  580125.000000\n",
      "227  Wallonia                Raeren  669666.666667\n",
      "167  Wallonia                 Lasne  640608.695652\n",
      "43   Wallonia                Attert  622823.529412\n",
      "81   Wallonia      Chaumont-Gistoux  618144.649123\n",
      "282  Wallonia              Waterloo  575947.826087\n"
     ]
    }
   ],
   "source": [
    "region_median_prices_house = houses_filtered.groupby(['region', 'municipality'])['price'].agg([\"mean\", \"median\"]).reset_index()\n",
    "top_by_region_house_mean = region_median_prices_house.sort_values(['region', 'mean'], ascending=[True, False])\n",
    "top_by_region_house_median = region_median_prices_house.sort_values(['region', 'median'], ascending=[True, False])\n",
    "\n",
    "\n",
    "top5_each_region_house_mean = top_by_region_house_mean.groupby('region').head(5)\n",
    "top5_each_region_house_median = top_by_region_house_median.groupby('region').head(5)\n",
    "print(\"Top 5 Houses by Mean Price:\")\n",
    "print(top5_each_region_house_mean[[\"region\",\"municipality\",\"mean\"]])"
   ]
  },
  {
   "cell_type": "code",
   "execution_count": 41,
   "id": "090c6339",
   "metadata": {},
   "outputs": [
    {
     "name": "stdout",
     "output_type": "stream",
     "text": [
      "Top 5 Houses by Median Price:\n",
      "       region          municipality    median\n",
      "18   Brussels   Woluwe-Saint-Pierre  732500.0\n",
      "17   Brussels  Woluwe-Saint-Lambert  745000.0\n",
      "16   Brussels   Watermael-Boitsfort  685000.0\n",
      "12   Brussels          Saint-Gilles  697500.0\n",
      "8    Brussels               Ixelles  695000.0\n",
      "23   Flanders             Herstappe  700000.0\n",
      "30   Flanders       Wezembeek-Oppem  599000.0\n",
      "28   Flanders    Rhode-Saint-Genèse  559000.0\n",
      "24   Flanders              Kraainem  595000.0\n",
      "25   Flanders             Linkebeek  567500.0\n",
      "227  Wallonia                Raeren  780000.0\n",
      "167  Wallonia                 Lasne  675000.0\n",
      "43   Wallonia                Attert  695000.0\n",
      "81   Wallonia      Chaumont-Gistoux  599000.0\n",
      "282  Wallonia              Waterloo  565000.0\n"
     ]
    }
   ],
   "source": [
    "\n",
    "print(\"Top 5 Houses by Median Price:\")\n",
    "print(top5_each_region_house_mean[[\"region\",\"municipality\",\"median\"]])"
   ]
  },
  {
   "cell_type": "code",
   "execution_count": 46,
   "id": "e8f7723c",
   "metadata": {},
   "outputs": [
    {
     "name": "stdout",
     "output_type": "stream",
     "text": [
      "Bottom 5 Houses by Mean Price:\n",
      "       region           municipality           mean\n",
      "11   Brussels   Molenbeek-Saint-Jean  477756.097561\n",
      "10   Brussels             Koekelberg  496142.857143\n",
      "0    Brussels             Anderlecht  503359.550562\n",
      "9    Brussels                  Jette  516939.393939\n",
      "2    Brussels  Berchem-Sainte-Agathe  524651.923077\n",
      "21   Flanders      Espierres-Helchin  236787.500000\n",
      "26   Flanders               Messines  253571.428571\n",
      "27   Flanders                 Renaix  298407.098901\n",
      "22   Flanders                Fourons  301944.444444\n",
      "19   Flanders                Biévène  380171.083333\n",
      "88   Wallonia            Colfontaine  146867.322581\n",
      "225  Wallonia              Quiévrain  166379.310345\n",
      "224  Wallonia              Quaregnon  171704.853659\n",
      "142  Wallonia               Hastière  183948.377049\n",
      "101  Wallonia                   Dour  184000.000000\n"
     ]
    }
   ],
   "source": [
    "bottom_by_region_house_mean = region_median_prices_house.sort_values(['region', 'mean'], ascending=[True, True])\n",
    "bottom_by_region_house_median = region_median_prices_house.sort_values(['region', 'median'], ascending=[True, True])\n",
    "\n",
    "\n",
    "bottom5_each_region_house_mean = bottom_by_region_house_mean .groupby('region').head(5)\n",
    "bottom5_each_region_house_median = bottom_by_region_house_median.groupby('region').head(5)\n",
    "print(\"Bottom 5 Houses by Mean Price:\")\n",
    "print(bottom5_each_region_house_mean[[\"region\",\"municipality\",\"mean\"]])"
   ]
  },
  {
   "cell_type": "code",
   "execution_count": 47,
   "id": "ff06f774",
   "metadata": {},
   "outputs": [
    {
     "name": "stdout",
     "output_type": "stream",
     "text": [
      "Bottom 5 Houses by Median Price:\n",
      "       region           municipality    median\n",
      "11   Brussels   Molenbeek-Saint-Jean  420000.0\n",
      "10   Brussels             Koekelberg  436000.0\n",
      "7    Brussels              Ganshoren  455000.0\n",
      "0    Brussels             Anderlecht  460000.0\n",
      "2    Brussels  Berchem-Sainte-Agathe  492500.0\n",
      "26   Flanders               Messines  249000.0\n",
      "22   Flanders                Fourons  249500.0\n",
      "21   Flanders      Espierres-Helchin  254000.0\n",
      "27   Flanders                 Renaix  273500.0\n",
      "19   Flanders                Biévène  412000.0\n",
      "142  Wallonia               Hastière  129000.0\n",
      "256  Wallonia                 Tellin  130000.0\n",
      "88   Wallonia            Colfontaine  143750.0\n",
      "224  Wallonia              Quaregnon  149999.0\n",
      "225  Wallonia              Quiévrain  155000.0\n"
     ]
    }
   ],
   "source": [
    "\n",
    "print(\"Bottom 5 Houses by Median Price:\")\n",
    "print(bottom5_each_region_house_median[[\"region\",\"municipality\",\"median\"]])"
   ]
  }
 ],
 "metadata": {
  "kernelspec": {
   "display_name": "env",
   "language": "python",
   "name": "python3"
  },
  "language_info": {
   "codemirror_mode": {
    "name": "ipython",
    "version": 3
   },
   "file_extension": ".py",
   "mimetype": "text/x-python",
   "name": "python",
   "nbconvert_exporter": "python",
   "pygments_lexer": "ipython3",
   "version": "3.12.10"
  }
 },
 "nbformat": 4,
 "nbformat_minor": 5
}
