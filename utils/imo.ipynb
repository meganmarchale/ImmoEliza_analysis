{
 "cells": [
  {
   "cell_type": "markdown",
   "id": "011984ae",
   "metadata": {},
   "source": [
    "import pandas as pd\n",
    "import seaborn as sns\n",
    "import matplotlib.pyplot as plt"
   ]
  },
  {
   "cell_type": "code",
   "execution_count": 46,
   "id": "8c2ed137",
   "metadata": {},
   "outputs": [],
   "source": [
    "import pandas as pd\n",
    "import seaborn as sns\n",
    "import matplotlib.pyplot as plt"
   ]
  },
  {
   "cell_type": "code",
   "execution_count": 47,
   "id": "0ed1332e",
   "metadata": {},
   "outputs": [
    {
     "data": {
      "text/html": [
       "<div>\n",
       "<style scoped>\n",
       "    .dataframe tbody tr th:only-of-type {\n",
       "        vertical-align: middle;\n",
       "    }\n",
       "\n",
       "    .dataframe tbody tr th {\n",
       "        vertical-align: top;\n",
       "    }\n",
       "\n",
       "    .dataframe thead th {\n",
       "        text-align: right;\n",
       "    }\n",
       "</style>\n",
       "<table border=\"1\" class=\"dataframe\">\n",
       "  <thead>\n",
       "    <tr style=\"text-align: right;\">\n",
       "      <th></th>\n",
       "      <th>Unnamed: 0</th>\n",
       "      <th>id</th>\n",
       "      <th>url</th>\n",
       "      <th>type</th>\n",
       "      <th>subtype</th>\n",
       "      <th>bedroomCount</th>\n",
       "      <th>bathroomCount</th>\n",
       "      <th>province</th>\n",
       "      <th>locality</th>\n",
       "      <th>postCode</th>\n",
       "      <th>...</th>\n",
       "      <th>hasOffice</th>\n",
       "      <th>toiletCount</th>\n",
       "      <th>hasSwimmingPool</th>\n",
       "      <th>hasFireplace</th>\n",
       "      <th>hasTerrace</th>\n",
       "      <th>terraceSurface</th>\n",
       "      <th>terraceOrientation</th>\n",
       "      <th>accessibleDisabledPeople</th>\n",
       "      <th>epcScore</th>\n",
       "      <th>price</th>\n",
       "    </tr>\n",
       "  </thead>\n",
       "  <tbody>\n",
       "    <tr>\n",
       "      <th>0</th>\n",
       "      <td>0</td>\n",
       "      <td>20661494.0</td>\n",
       "      <td>https://www.immoweb.be/en/classified/apartment...</td>\n",
       "      <td>APARTMENT</td>\n",
       "      <td>APARTMENT</td>\n",
       "      <td>2.0</td>\n",
       "      <td>1.0</td>\n",
       "      <td>Brussels</td>\n",
       "      <td>Etterbeek</td>\n",
       "      <td>1040</td>\n",
       "      <td>...</td>\n",
       "      <td>NaN</td>\n",
       "      <td>1.0</td>\n",
       "      <td>NaN</td>\n",
       "      <td>NaN</td>\n",
       "      <td>True</td>\n",
       "      <td>7.0</td>\n",
       "      <td>NaN</td>\n",
       "      <td>NaN</td>\n",
       "      <td>C</td>\n",
       "      <td>399000.0</td>\n",
       "    </tr>\n",
       "    <tr>\n",
       "      <th>1</th>\n",
       "      <td>1</td>\n",
       "      <td>20647642.0</td>\n",
       "      <td>https://www.immoweb.be/en/classified/house/for...</td>\n",
       "      <td>HOUSE</td>\n",
       "      <td>HOUSE</td>\n",
       "      <td>4.0</td>\n",
       "      <td>2.0</td>\n",
       "      <td>Brussels</td>\n",
       "      <td>Etterbeek</td>\n",
       "      <td>1040</td>\n",
       "      <td>...</td>\n",
       "      <td>True</td>\n",
       "      <td>3.0</td>\n",
       "      <td>NaN</td>\n",
       "      <td>NaN</td>\n",
       "      <td>True</td>\n",
       "      <td>1.0</td>\n",
       "      <td>NaN</td>\n",
       "      <td>NaN</td>\n",
       "      <td>E</td>\n",
       "      <td>895000.0</td>\n",
       "    </tr>\n",
       "    <tr>\n",
       "      <th>2</th>\n",
       "      <td>2</td>\n",
       "      <td>20644816.0</td>\n",
       "      <td>https://www.immoweb.be/en/classified/apartment...</td>\n",
       "      <td>APARTMENT</td>\n",
       "      <td>APARTMENT</td>\n",
       "      <td>2.0</td>\n",
       "      <td>1.0</td>\n",
       "      <td>Brussels</td>\n",
       "      <td>Etterbeek</td>\n",
       "      <td>1040</td>\n",
       "      <td>...</td>\n",
       "      <td>NaN</td>\n",
       "      <td>1.0</td>\n",
       "      <td>NaN</td>\n",
       "      <td>NaN</td>\n",
       "      <td>True</td>\n",
       "      <td>2.0</td>\n",
       "      <td>NaN</td>\n",
       "      <td>NaN</td>\n",
       "      <td>F</td>\n",
       "      <td>465000.0</td>\n",
       "    </tr>\n",
       "    <tr>\n",
       "      <th>3</th>\n",
       "      <td>3</td>\n",
       "      <td>20659813.0</td>\n",
       "      <td>https://www.immoweb.be/en/classified/apartment...</td>\n",
       "      <td>APARTMENT</td>\n",
       "      <td>APARTMENT</td>\n",
       "      <td>2.0</td>\n",
       "      <td>2.0</td>\n",
       "      <td>Brussels</td>\n",
       "      <td>Bruxelles</td>\n",
       "      <td>1040</td>\n",
       "      <td>...</td>\n",
       "      <td>NaN</td>\n",
       "      <td>2.0</td>\n",
       "      <td>NaN</td>\n",
       "      <td>NaN</td>\n",
       "      <td>True</td>\n",
       "      <td>3.0</td>\n",
       "      <td>NaN</td>\n",
       "      <td>NaN</td>\n",
       "      <td>B</td>\n",
       "      <td>590000.0</td>\n",
       "    </tr>\n",
       "    <tr>\n",
       "      <th>4</th>\n",
       "      <td>4</td>\n",
       "      <td>20633249.0</td>\n",
       "      <td>https://www.immoweb.be/en/classified/flat-stud...</td>\n",
       "      <td>APARTMENT</td>\n",
       "      <td>FLAT_STUDIO</td>\n",
       "      <td>1.0</td>\n",
       "      <td>1.0</td>\n",
       "      <td>Brussels</td>\n",
       "      <td>Etterbeek</td>\n",
       "      <td>1040</td>\n",
       "      <td>...</td>\n",
       "      <td>NaN</td>\n",
       "      <td>1.0</td>\n",
       "      <td>NaN</td>\n",
       "      <td>NaN</td>\n",
       "      <td>NaN</td>\n",
       "      <td>NaN</td>\n",
       "      <td>NaN</td>\n",
       "      <td>NaN</td>\n",
       "      <td>E</td>\n",
       "      <td>289000.0</td>\n",
       "    </tr>\n",
       "  </tbody>\n",
       "</table>\n",
       "<p>5 rows × 53 columns</p>\n",
       "</div>"
      ],
      "text/plain": [
       "   Unnamed: 0          id                                                url  \\\n",
       "0           0  20661494.0  https://www.immoweb.be/en/classified/apartment...   \n",
       "1           1  20647642.0  https://www.immoweb.be/en/classified/house/for...   \n",
       "2           2  20644816.0  https://www.immoweb.be/en/classified/apartment...   \n",
       "3           3  20659813.0  https://www.immoweb.be/en/classified/apartment...   \n",
       "4           4  20633249.0  https://www.immoweb.be/en/classified/flat-stud...   \n",
       "\n",
       "        type      subtype  bedroomCount  bathroomCount  province   locality  \\\n",
       "0  APARTMENT    APARTMENT           2.0            1.0  Brussels  Etterbeek   \n",
       "1      HOUSE        HOUSE           4.0            2.0  Brussels  Etterbeek   \n",
       "2  APARTMENT    APARTMENT           2.0            1.0  Brussels  Etterbeek   \n",
       "3  APARTMENT    APARTMENT           2.0            2.0  Brussels  Bruxelles   \n",
       "4  APARTMENT  FLAT_STUDIO           1.0            1.0  Brussels  Etterbeek   \n",
       "\n",
       "   postCode  ...  hasOffice  toiletCount  hasSwimmingPool hasFireplace  \\\n",
       "0      1040  ...        NaN          1.0              NaN          NaN   \n",
       "1      1040  ...       True          3.0              NaN          NaN   \n",
       "2      1040  ...        NaN          1.0              NaN          NaN   \n",
       "3      1040  ...        NaN          2.0              NaN          NaN   \n",
       "4      1040  ...        NaN          1.0              NaN          NaN   \n",
       "\n",
       "  hasTerrace terraceSurface  terraceOrientation accessibleDisabledPeople  \\\n",
       "0       True            7.0                 NaN                      NaN   \n",
       "1       True            1.0                 NaN                      NaN   \n",
       "2       True            2.0                 NaN                      NaN   \n",
       "3       True            3.0                 NaN                      NaN   \n",
       "4        NaN            NaN                 NaN                      NaN   \n",
       "\n",
       "  epcScore     price  \n",
       "0        C  399000.0  \n",
       "1        E  895000.0  \n",
       "2        F  465000.0  \n",
       "3        B  590000.0  \n",
       "4        E  289000.0  \n",
       "\n",
       "[5 rows x 53 columns]"
      ]
     },
     "metadata": {},
     "output_type": "display_data"
    }
   ],
   "source": [
    "filename = \"../data/immoweb-dataset.csv\"\n",
    "df = pd.read_csv(filename)\n",
    "display(df.head())"
   ]
  },
  {
   "cell_type": "code",
   "execution_count": 64,
   "id": "30365ed7",
   "metadata": {},
   "outputs": [],
   "source": [
    "def hasLivingRoom():\n",
    "    df = df.drop('hasLivingRoom', axis='columns') # drop empty strings \n",
    "\n",
    "\n",
    "\n"
   ]
  },
  {
   "cell_type": "code",
   "execution_count": null,
   "id": "cabd37a1",
   "metadata": {
    "vscode": {
     "languageId": "ruby"
    }
   },
   "outputs": [],
   "source": [
    "display(df['hasLivingRoom'])\n"
   ]
  },
  {
   "cell_type": "code",
   "execution_count": 62,
   "id": "c315d2c2",
   "metadata": {
    "vscode": {
     "languageId": "ruby"
    }
   },
   "outputs": [],
   "source": [
    "def buildingConstructionYear():\n",
    "    df['buildingConstructionYear'] = df['buildingConstructionYear'].fillna('missing')"
   ]
  },
  {
   "cell_type": "code",
   "execution_count": 63,
   "id": "7cf5c8c4",
   "metadata": {
    "vscode": {
     "languageId": "ruby"
    }
   },
   "outputs": [
    {
     "data": {
      "text/plain": [
       "0         2004.0\n",
       "1         1910.0\n",
       "2         1970.0\n",
       "3         2018.0\n",
       "4         1906.0\n",
       "          ...   \n",
       "80363     2008.0\n",
       "80364     1970.0\n",
       "80365     1964.0\n",
       "80366    missing\n",
       "80367     1964.0\n",
       "Name: buildingConstructionYear, Length: 80368, dtype: object"
      ]
     },
     "metadata": {},
     "output_type": "display_data"
    }
   ],
   "source": [
    "display(df['buildingConstructionYear'])"
   ]
  },
  {
   "cell_type": "code",
   "execution_count": 60,
   "id": "5711af9e",
   "metadata": {
    "vscode": {
     "languageId": "ruby"
    }
   },
   "outputs": [],
   "source": [
    "def hasBasement():\n",
    "    df['hasBasement'] = df['hasBasement'].fillna(False) # replace empty strings with None\n"
   ]
  },
  {
   "cell_type": "code",
   "execution_count": 61,
   "id": "c2aeafec",
   "metadata": {
    "vscode": {
     "languageId": "ruby"
    }
   },
   "outputs": [
    {
     "data": {
      "text/plain": [
       "0         True\n",
       "1         True\n",
       "2        False\n",
       "3        False\n",
       "4        False\n",
       "         ...  \n",
       "80363    False\n",
       "80364     True\n",
       "80365     True\n",
       "80366    False\n",
       "80367    False\n",
       "Name: hasBasement, Length: 80368, dtype: bool"
      ]
     },
     "metadata": {},
     "output_type": "display_data"
    }
   ],
   "source": [
    "display(df['hasBasement'])"
   ]
  }
 ],
 "metadata": {
  "kernelspec": {
   "display_name": "Python 3",
   "language": "python",
   "name": "python3"
  },
  "language_info": {
   "codemirror_mode": {
    "name": "ipython",
    "version": 3
   },
   "file_extension": ".py",
   "mimetype": "text/x-python",
   "name": "python",
   "nbconvert_exporter": "python",
   "pygments_lexer": "ipython3",
   "version": "3.13.4"
  }
 },
 "nbformat": 4,
 "nbformat_minor": 5
}
